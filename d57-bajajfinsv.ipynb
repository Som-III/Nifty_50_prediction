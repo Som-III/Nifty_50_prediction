{
 "cells": [
  {
   "cell_type": "code",
   "execution_count": 1,
   "id": "b335affd",
   "metadata": {
    "execution": {
     "iopub.execute_input": "2024-04-06T15:04:36.762189Z",
     "iopub.status.busy": "2024-04-06T15:04:36.761743Z",
     "iopub.status.idle": "2024-04-06T15:04:52.944149Z",
     "shell.execute_reply": "2024-04-06T15:04:52.942856Z"
    },
    "papermill": {
     "duration": 16.196067,
     "end_time": "2024-04-06T15:04:52.947398",
     "exception": false,
     "start_time": "2024-04-06T15:04:36.751331",
     "status": "completed"
    },
    "tags": []
   },
   "outputs": [
    {
     "name": "stderr",
     "output_type": "stream",
     "text": [
      "2024-04-06 15:04:39.726001: E external/local_xla/xla/stream_executor/cuda/cuda_dnn.cc:9261] Unable to register cuDNN factory: Attempting to register factory for plugin cuDNN when one has already been registered\n",
      "2024-04-06 15:04:39.726130: E external/local_xla/xla/stream_executor/cuda/cuda_fft.cc:607] Unable to register cuFFT factory: Attempting to register factory for plugin cuFFT when one has already been registered\n",
      "2024-04-06 15:04:39.872004: E external/local_xla/xla/stream_executor/cuda/cuda_blas.cc:1515] Unable to register cuBLAS factory: Attempting to register factory for plugin cuBLAS when one has already been registered\n"
     ]
    }
   ],
   "source": [
    "import pandas as pd\n",
    "import matplotlib.pyplot as plt\n",
    "import numpy as np\n",
    "import matplotlib.dates as mdates\n",
    "import datetime as dt\n",
    "import tensorflow as tf\n",
    "import seaborn as sns\n",
    "from tensorflow.keras.layers import Dense, Dropout\n",
    "from keras.layers import GRU, Dropout, Dense, Input\n",
    "from keras.models import Sequential, load_model\n",
    "from sklearn.model_selection import train_test_split\n",
    "\n",
    "from sklearn.preprocessing import RobustScaler, MinMaxScaler\n",
    "\n",
    "import warnings\n",
    "warnings.filterwarnings('ignore')"
   ]
  },
  {
   "cell_type": "code",
   "execution_count": 2,
   "id": "a701d6b8",
   "metadata": {
    "execution": {
     "iopub.execute_input": "2024-04-06T15:04:52.966331Z",
     "iopub.status.busy": "2024-04-06T15:04:52.965557Z",
     "iopub.status.idle": "2024-04-06T15:04:52.974241Z",
     "shell.execute_reply": "2024-04-06T15:04:52.972936Z"
    },
    "papermill": {
     "duration": 0.020891,
     "end_time": "2024-04-06T15:04:52.976848",
     "exception": false,
     "start_time": "2024-04-06T15:04:52.955957",
     "status": "completed"
    },
    "tags": []
   },
   "outputs": [],
   "source": [
    "df = pd.DataFrame()"
   ]
  },
  {
   "cell_type": "code",
   "execution_count": 3,
   "id": "e8f85a7c",
   "metadata": {
    "execution": {
     "iopub.execute_input": "2024-04-06T15:04:52.994819Z",
     "iopub.status.busy": "2024-04-06T15:04:52.994374Z",
     "iopub.status.idle": "2024-04-06T15:04:53.043052Z",
     "shell.execute_reply": "2024-04-06T15:04:53.041684Z"
    },
    "papermill": {
     "duration": 0.060216,
     "end_time": "2024-04-06T15:04:53.045557",
     "exception": false,
     "start_time": "2024-04-06T15:04:52.985341",
     "status": "completed"
    },
    "tags": []
   },
   "outputs": [],
   "source": [
    "df = pd.read_csv(\"/kaggle/input/nifty50-stock-market-data/BAJAJFINSV.csv\")"
   ]
  },
  {
   "cell_type": "code",
   "execution_count": 4,
   "id": "08f7c40f",
   "metadata": {
    "execution": {
     "iopub.execute_input": "2024-04-06T15:04:53.063807Z",
     "iopub.status.busy": "2024-04-06T15:04:53.062996Z",
     "iopub.status.idle": "2024-04-06T15:04:53.090869Z",
     "shell.execute_reply": "2024-04-06T15:04:53.089006Z"
    },
    "papermill": {
     "duration": 0.039697,
     "end_time": "2024-04-06T15:04:53.093289",
     "exception": false,
     "start_time": "2024-04-06T15:04:53.053592",
     "status": "completed"
    },
    "tags": []
   },
   "outputs": [
    {
     "data": {
      "text/html": [
       "<div>\n",
       "<style scoped>\n",
       "    .dataframe tbody tr th:only-of-type {\n",
       "        vertical-align: middle;\n",
       "    }\n",
       "\n",
       "    .dataframe tbody tr th {\n",
       "        vertical-align: top;\n",
       "    }\n",
       "\n",
       "    .dataframe thead th {\n",
       "        text-align: right;\n",
       "    }\n",
       "</style>\n",
       "<table border=\"1\" class=\"dataframe\">\n",
       "  <thead>\n",
       "    <tr style=\"text-align: right;\">\n",
       "      <th></th>\n",
       "      <th>Date</th>\n",
       "      <th>Symbol</th>\n",
       "      <th>Series</th>\n",
       "      <th>Prev Close</th>\n",
       "      <th>Open</th>\n",
       "      <th>High</th>\n",
       "      <th>Low</th>\n",
       "      <th>Last</th>\n",
       "      <th>Close</th>\n",
       "      <th>VWAP</th>\n",
       "      <th>Volume</th>\n",
       "      <th>Turnover</th>\n",
       "      <th>Trades</th>\n",
       "      <th>Deliverable Volume</th>\n",
       "      <th>%Deliverble</th>\n",
       "    </tr>\n",
       "  </thead>\n",
       "  <tbody>\n",
       "    <tr>\n",
       "      <th>0</th>\n",
       "      <td>2008-05-26</td>\n",
       "      <td>BAJAJFINSV</td>\n",
       "      <td>EQ</td>\n",
       "      <td>2101.05</td>\n",
       "      <td>600.00</td>\n",
       "      <td>619.00</td>\n",
       "      <td>501.0</td>\n",
       "      <td>505.1</td>\n",
       "      <td>509.10</td>\n",
       "      <td>548.85</td>\n",
       "      <td>3145446</td>\n",
       "      <td>1.726368e+14</td>\n",
       "      <td>NaN</td>\n",
       "      <td>908264</td>\n",
       "      <td>0.2888</td>\n",
       "    </tr>\n",
       "    <tr>\n",
       "      <th>1</th>\n",
       "      <td>2008-05-27</td>\n",
       "      <td>BAJAJFINSV</td>\n",
       "      <td>EQ</td>\n",
       "      <td>509.10</td>\n",
       "      <td>505.00</td>\n",
       "      <td>610.95</td>\n",
       "      <td>491.1</td>\n",
       "      <td>564.0</td>\n",
       "      <td>554.65</td>\n",
       "      <td>572.15</td>\n",
       "      <td>4349144</td>\n",
       "      <td>2.488370e+14</td>\n",
       "      <td>NaN</td>\n",
       "      <td>677627</td>\n",
       "      <td>0.1558</td>\n",
       "    </tr>\n",
       "    <tr>\n",
       "      <th>2</th>\n",
       "      <td>2008-05-28</td>\n",
       "      <td>BAJAJFINSV</td>\n",
       "      <td>EQ</td>\n",
       "      <td>554.65</td>\n",
       "      <td>564.00</td>\n",
       "      <td>665.60</td>\n",
       "      <td>564.0</td>\n",
       "      <td>643.0</td>\n",
       "      <td>640.95</td>\n",
       "      <td>618.37</td>\n",
       "      <td>4588759</td>\n",
       "      <td>2.837530e+14</td>\n",
       "      <td>NaN</td>\n",
       "      <td>774895</td>\n",
       "      <td>0.1689</td>\n",
       "    </tr>\n",
       "    <tr>\n",
       "      <th>3</th>\n",
       "      <td>2008-05-29</td>\n",
       "      <td>BAJAJFINSV</td>\n",
       "      <td>EQ</td>\n",
       "      <td>640.95</td>\n",
       "      <td>656.65</td>\n",
       "      <td>703.00</td>\n",
       "      <td>608.0</td>\n",
       "      <td>634.5</td>\n",
       "      <td>632.40</td>\n",
       "      <td>659.60</td>\n",
       "      <td>4522302</td>\n",
       "      <td>2.982921e+14</td>\n",
       "      <td>NaN</td>\n",
       "      <td>1006161</td>\n",
       "      <td>0.2225</td>\n",
       "    </tr>\n",
       "    <tr>\n",
       "      <th>4</th>\n",
       "      <td>2008-05-30</td>\n",
       "      <td>BAJAJFINSV</td>\n",
       "      <td>EQ</td>\n",
       "      <td>632.40</td>\n",
       "      <td>642.40</td>\n",
       "      <td>668.00</td>\n",
       "      <td>588.3</td>\n",
       "      <td>647.0</td>\n",
       "      <td>644.00</td>\n",
       "      <td>636.41</td>\n",
       "      <td>3057669</td>\n",
       "      <td>1.945929e+14</td>\n",
       "      <td>NaN</td>\n",
       "      <td>462832</td>\n",
       "      <td>0.1514</td>\n",
       "    </tr>\n",
       "  </tbody>\n",
       "</table>\n",
       "</div>"
      ],
      "text/plain": [
       "         Date      Symbol Series  Prev Close    Open    High    Low   Last  \\\n",
       "0  2008-05-26  BAJAJFINSV     EQ     2101.05  600.00  619.00  501.0  505.1   \n",
       "1  2008-05-27  BAJAJFINSV     EQ      509.10  505.00  610.95  491.1  564.0   \n",
       "2  2008-05-28  BAJAJFINSV     EQ      554.65  564.00  665.60  564.0  643.0   \n",
       "3  2008-05-29  BAJAJFINSV     EQ      640.95  656.65  703.00  608.0  634.5   \n",
       "4  2008-05-30  BAJAJFINSV     EQ      632.40  642.40  668.00  588.3  647.0   \n",
       "\n",
       "    Close    VWAP   Volume      Turnover  Trades  Deliverable Volume  \\\n",
       "0  509.10  548.85  3145446  1.726368e+14     NaN              908264   \n",
       "1  554.65  572.15  4349144  2.488370e+14     NaN              677627   \n",
       "2  640.95  618.37  4588759  2.837530e+14     NaN              774895   \n",
       "3  632.40  659.60  4522302  2.982921e+14     NaN             1006161   \n",
       "4  644.00  636.41  3057669  1.945929e+14     NaN              462832   \n",
       "\n",
       "   %Deliverble  \n",
       "0       0.2888  \n",
       "1       0.1558  \n",
       "2       0.1689  \n",
       "3       0.2225  \n",
       "4       0.1514  "
      ]
     },
     "execution_count": 4,
     "metadata": {},
     "output_type": "execute_result"
    }
   ],
   "source": [
    "df.head()"
   ]
  },
  {
   "cell_type": "code",
   "execution_count": 5,
   "id": "ad4ff96d",
   "metadata": {
    "execution": {
     "iopub.execute_input": "2024-04-06T15:04:53.111784Z",
     "iopub.status.busy": "2024-04-06T15:04:53.111322Z",
     "iopub.status.idle": "2024-04-06T15:04:53.140015Z",
     "shell.execute_reply": "2024-04-06T15:04:53.138684Z"
    },
    "papermill": {
     "duration": 0.0412,
     "end_time": "2024-04-06T15:04:53.142808",
     "exception": false,
     "start_time": "2024-04-06T15:04:53.101608",
     "status": "completed"
    },
    "tags": []
   },
   "outputs": [
    {
     "name": "stdout",
     "output_type": "stream",
     "text": [
      "<class 'pandas.core.frame.DataFrame'>\n",
      "RangeIndex: 3201 entries, 0 to 3200\n",
      "Data columns (total 15 columns):\n",
      " #   Column              Non-Null Count  Dtype  \n",
      "---  ------              --------------  -----  \n",
      " 0   Date                3201 non-null   object \n",
      " 1   Symbol              3201 non-null   object \n",
      " 2   Series              3201 non-null   object \n",
      " 3   Prev Close          3201 non-null   float64\n",
      " 4   Open                3201 non-null   float64\n",
      " 5   High                3201 non-null   float64\n",
      " 6   Low                 3201 non-null   float64\n",
      " 7   Last                3201 non-null   float64\n",
      " 8   Close               3201 non-null   float64\n",
      " 9   VWAP                3201 non-null   float64\n",
      " 10  Volume              3201 non-null   int64  \n",
      " 11  Turnover            3201 non-null   float64\n",
      " 12  Trades              2456 non-null   float64\n",
      " 13  Deliverable Volume  3201 non-null   int64  \n",
      " 14  %Deliverble         3201 non-null   float64\n",
      "dtypes: float64(10), int64(2), object(3)\n",
      "memory usage: 375.2+ KB\n"
     ]
    }
   ],
   "source": [
    "df.info()"
   ]
  },
  {
   "cell_type": "code",
   "execution_count": 6,
   "id": "bbbb0aeb",
   "metadata": {
    "execution": {
     "iopub.execute_input": "2024-04-06T15:04:53.161199Z",
     "iopub.status.busy": "2024-04-06T15:04:53.160519Z",
     "iopub.status.idle": "2024-04-06T15:04:53.207819Z",
     "shell.execute_reply": "2024-04-06T15:04:53.206558Z"
    },
    "papermill": {
     "duration": 0.059077,
     "end_time": "2024-04-06T15:04:53.210093",
     "exception": false,
     "start_time": "2024-04-06T15:04:53.151016",
     "status": "completed"
    },
    "tags": []
   },
   "outputs": [
    {
     "data": {
      "text/html": [
       "<div>\n",
       "<style scoped>\n",
       "    .dataframe tbody tr th:only-of-type {\n",
       "        vertical-align: middle;\n",
       "    }\n",
       "\n",
       "    .dataframe tbody tr th {\n",
       "        vertical-align: top;\n",
       "    }\n",
       "\n",
       "    .dataframe thead th {\n",
       "        text-align: right;\n",
       "    }\n",
       "</style>\n",
       "<table border=\"1\" class=\"dataframe\">\n",
       "  <thead>\n",
       "    <tr style=\"text-align: right;\">\n",
       "      <th></th>\n",
       "      <th>Prev Close</th>\n",
       "      <th>Open</th>\n",
       "      <th>High</th>\n",
       "      <th>Low</th>\n",
       "      <th>Last</th>\n",
       "      <th>Close</th>\n",
       "      <th>VWAP</th>\n",
       "      <th>Volume</th>\n",
       "      <th>Turnover</th>\n",
       "      <th>Trades</th>\n",
       "      <th>Deliverable Volume</th>\n",
       "      <th>%Deliverble</th>\n",
       "    </tr>\n",
       "  </thead>\n",
       "  <tbody>\n",
       "    <tr>\n",
       "      <th>count</th>\n",
       "      <td>3201.000000</td>\n",
       "      <td>3201.000000</td>\n",
       "      <td>3201.000000</td>\n",
       "      <td>3201.000000</td>\n",
       "      <td>3201.000000</td>\n",
       "      <td>3201.000000</td>\n",
       "      <td>3201.000000</td>\n",
       "      <td>3.201000e+03</td>\n",
       "      <td>3.201000e+03</td>\n",
       "      <td>2456.000000</td>\n",
       "      <td>3.201000e+03</td>\n",
       "      <td>3201.000000</td>\n",
       "    </tr>\n",
       "    <tr>\n",
       "      <th>mean</th>\n",
       "      <td>2755.864386</td>\n",
       "      <td>2760.382381</td>\n",
       "      <td>2803.614449</td>\n",
       "      <td>2716.731443</td>\n",
       "      <td>2758.781537</td>\n",
       "      <td>2758.657451</td>\n",
       "      <td>2761.156954</td>\n",
       "      <td>2.315312e+05</td>\n",
       "      <td>9.533424e+13</td>\n",
       "      <td>20892.811075</td>\n",
       "      <td>7.409510e+04</td>\n",
       "      <td>0.471614</td>\n",
       "    </tr>\n",
       "    <tr>\n",
       "      <th>std</th>\n",
       "      <td>2869.811765</td>\n",
       "      <td>2874.814173</td>\n",
       "      <td>2912.885262</td>\n",
       "      <td>2834.037357</td>\n",
       "      <td>2873.792614</td>\n",
       "      <td>2873.522615</td>\n",
       "      <td>2874.033545</td>\n",
       "      <td>4.402681e+05</td>\n",
       "      <td>2.176448e+14</td>\n",
       "      <td>32396.302068</td>\n",
       "      <td>1.464012e+05</td>\n",
       "      <td>0.218910</td>\n",
       "    </tr>\n",
       "    <tr>\n",
       "      <th>min</th>\n",
       "      <td>90.750000</td>\n",
       "      <td>88.150000</td>\n",
       "      <td>93.100000</td>\n",
       "      <td>88.150000</td>\n",
       "      <td>91.000000</td>\n",
       "      <td>90.750000</td>\n",
       "      <td>89.260000</td>\n",
       "      <td>4.570000e+02</td>\n",
       "      <td>1.376712e+10</td>\n",
       "      <td>149.000000</td>\n",
       "      <td>4.560000e+02</td>\n",
       "      <td>0.056200</td>\n",
       "    </tr>\n",
       "    <tr>\n",
       "      <th>25%</th>\n",
       "      <td>527.900000</td>\n",
       "      <td>528.600000</td>\n",
       "      <td>542.600000</td>\n",
       "      <td>520.000000</td>\n",
       "      <td>527.950000</td>\n",
       "      <td>527.900000</td>\n",
       "      <td>531.270000</td>\n",
       "      <td>3.981100e+04</td>\n",
       "      <td>2.751053e+12</td>\n",
       "      <td>2951.750000</td>\n",
       "      <td>2.086300e+04</td>\n",
       "      <td>0.287400</td>\n",
       "    </tr>\n",
       "    <tr>\n",
       "      <th>50%</th>\n",
       "      <td>1098.700000</td>\n",
       "      <td>1095.000000</td>\n",
       "      <td>1118.000000</td>\n",
       "      <td>1080.250000</td>\n",
       "      <td>1100.000000</td>\n",
       "      <td>1098.700000</td>\n",
       "      <td>1103.560000</td>\n",
       "      <td>9.995300e+04</td>\n",
       "      <td>1.090486e+13</td>\n",
       "      <td>9450.000000</td>\n",
       "      <td>4.159700e+04</td>\n",
       "      <td>0.469700</td>\n",
       "    </tr>\n",
       "    <tr>\n",
       "      <th>75%</th>\n",
       "      <td>5121.900000</td>\n",
       "      <td>5120.000000</td>\n",
       "      <td>5199.800000</td>\n",
       "      <td>5042.800000</td>\n",
       "      <td>5115.000000</td>\n",
       "      <td>5125.100000</td>\n",
       "      <td>5127.510000</td>\n",
       "      <td>2.315400e+05</td>\n",
       "      <td>8.755946e+13</td>\n",
       "      <td>24439.750000</td>\n",
       "      <td>8.308900e+04</td>\n",
       "      <td>0.636000</td>\n",
       "    </tr>\n",
       "    <tr>\n",
       "      <th>max</th>\n",
       "      <td>11176.550000</td>\n",
       "      <td>11000.000000</td>\n",
       "      <td>11300.000000</td>\n",
       "      <td>10868.700000</td>\n",
       "      <td>11175.450000</td>\n",
       "      <td>11176.550000</td>\n",
       "      <td>11081.780000</td>\n",
       "      <td>6.271671e+06</td>\n",
       "      <td>3.394379e+15</td>\n",
       "      <td>312959.000000</td>\n",
       "      <td>3.804696e+06</td>\n",
       "      <td>1.000000</td>\n",
       "    </tr>\n",
       "  </tbody>\n",
       "</table>\n",
       "</div>"
      ],
      "text/plain": [
       "         Prev Close          Open          High           Low          Last  \\\n",
       "count   3201.000000   3201.000000   3201.000000   3201.000000   3201.000000   \n",
       "mean    2755.864386   2760.382381   2803.614449   2716.731443   2758.781537   \n",
       "std     2869.811765   2874.814173   2912.885262   2834.037357   2873.792614   \n",
       "min       90.750000     88.150000     93.100000     88.150000     91.000000   \n",
       "25%      527.900000    528.600000    542.600000    520.000000    527.950000   \n",
       "50%     1098.700000   1095.000000   1118.000000   1080.250000   1100.000000   \n",
       "75%     5121.900000   5120.000000   5199.800000   5042.800000   5115.000000   \n",
       "max    11176.550000  11000.000000  11300.000000  10868.700000  11175.450000   \n",
       "\n",
       "              Close          VWAP        Volume      Turnover         Trades  \\\n",
       "count   3201.000000   3201.000000  3.201000e+03  3.201000e+03    2456.000000   \n",
       "mean    2758.657451   2761.156954  2.315312e+05  9.533424e+13   20892.811075   \n",
       "std     2873.522615   2874.033545  4.402681e+05  2.176448e+14   32396.302068   \n",
       "min       90.750000     89.260000  4.570000e+02  1.376712e+10     149.000000   \n",
       "25%      527.900000    531.270000  3.981100e+04  2.751053e+12    2951.750000   \n",
       "50%     1098.700000   1103.560000  9.995300e+04  1.090486e+13    9450.000000   \n",
       "75%     5125.100000   5127.510000  2.315400e+05  8.755946e+13   24439.750000   \n",
       "max    11176.550000  11081.780000  6.271671e+06  3.394379e+15  312959.000000   \n",
       "\n",
       "       Deliverable Volume  %Deliverble  \n",
       "count        3.201000e+03  3201.000000  \n",
       "mean         7.409510e+04     0.471614  \n",
       "std          1.464012e+05     0.218910  \n",
       "min          4.560000e+02     0.056200  \n",
       "25%          2.086300e+04     0.287400  \n",
       "50%          4.159700e+04     0.469700  \n",
       "75%          8.308900e+04     0.636000  \n",
       "max          3.804696e+06     1.000000  "
      ]
     },
     "execution_count": 6,
     "metadata": {},
     "output_type": "execute_result"
    }
   ],
   "source": [
    "df.describe()"
   ]
  },
  {
   "cell_type": "code",
   "execution_count": 7,
   "id": "1b0b22b3",
   "metadata": {
    "execution": {
     "iopub.execute_input": "2024-04-06T15:04:53.229211Z",
     "iopub.status.busy": "2024-04-06T15:04:53.228793Z",
     "iopub.status.idle": "2024-04-06T15:04:53.238845Z",
     "shell.execute_reply": "2024-04-06T15:04:53.237666Z"
    },
    "papermill": {
     "duration": 0.022277,
     "end_time": "2024-04-06T15:04:53.241006",
     "exception": false,
     "start_time": "2024-04-06T15:04:53.218729",
     "status": "completed"
    },
    "tags": []
   },
   "outputs": [
    {
     "data": {
      "text/plain": [
       "True"
      ]
     },
     "execution_count": 7,
     "metadata": {},
     "output_type": "execute_result"
    }
   ],
   "source": [
    "df['Date'].nunique() == df.shape[0]"
   ]
  },
  {
   "cell_type": "code",
   "execution_count": 8,
   "id": "00ee5f28",
   "metadata": {
    "execution": {
     "iopub.execute_input": "2024-04-06T15:04:53.261655Z",
     "iopub.status.busy": "2024-04-06T15:04:53.260917Z",
     "iopub.status.idle": "2024-04-06T15:04:53.618853Z",
     "shell.execute_reply": "2024-04-06T15:04:53.617297Z"
    },
    "papermill": {
     "duration": 0.374481,
     "end_time": "2024-04-06T15:04:53.625062",
     "exception": false,
     "start_time": "2024-04-06T15:04:53.250581",
     "status": "completed"
    },
    "tags": []
   },
   "outputs": [
    {
     "data": {
      "text/plain": [
       "<Axes: >"
      ]
     },
     "execution_count": 8,
     "metadata": {},
     "output_type": "execute_result"
    },
    {
     "data": {
      "image/png": "[encoded data removed]",
      "text/plain": [
       "<Figure size 640x480 with 1 Axes>"
      ]
     },
     "metadata": {},
     "output_type": "display_data"
    }
   ],
   "source": [
    "sns.heatmap(df.isnull(),yticklabels=False,cbar=False,cmap='viridis')"
   ]
  },
  {
   "cell_type": "code",
   "execution_count": null,
   "id": "2e6a976a",
   "metadata": {
    "papermill": {
     "duration": 0.013712,
     "end_time": "2024-04-06T15:04:53.648642",
     "exception": false,
     "start_time": "2024-04-06T15:04:53.634930",
     "status": "completed"
    },
    "tags": []
   },
   "outputs": [],
   "source": []
  },
  {
   "cell_type": "code",
   "execution_count": 9,
   "id": "fb47af5e",
   "metadata": {
    "execution": {
     "iopub.execute_input": "2024-04-06T15:04:53.675959Z",
     "iopub.status.busy": "2024-04-06T15:04:53.675528Z",
     "iopub.status.idle": "2024-04-06T15:04:53.683377Z",
     "shell.execute_reply": "2024-04-06T15:04:53.682298Z"
    },
    "papermill": {
     "duration": 0.02299,
     "end_time": "2024-04-06T15:04:53.685486",
     "exception": false,
     "start_time": "2024-04-06T15:04:53.662496",
     "status": "completed"
    },
    "tags": []
   },
   "outputs": [
    {
     "data": {
      "text/plain": [
       "745"
      ]
     },
     "execution_count": 9,
     "metadata": {},
     "output_type": "execute_result"
    }
   ],
   "source": [
    "df['Trades'].isnull().sum()"
   ]
  },
  {
   "cell_type": "code",
   "execution_count": 10,
   "id": "ab0e7a21",
   "metadata": {
    "execution": {
     "iopub.execute_input": "2024-04-06T15:04:53.710226Z",
     "iopub.status.busy": "2024-04-06T15:04:53.709426Z",
     "iopub.status.idle": "2024-04-06T15:04:53.718863Z",
     "shell.execute_reply": "2024-04-06T15:04:53.717750Z"
    },
    "papermill": {
     "duration": 0.023168,
     "end_time": "2024-04-06T15:04:53.721180",
     "exception": false,
     "start_time": "2024-04-06T15:04:53.698012",
     "status": "completed"
    },
    "tags": []
   },
   "outputs": [],
   "source": [
    "df = df.dropna()"
   ]
  },
  {
   "cell_type": "code",
   "execution_count": null,
   "id": "6047aafd",
   "metadata": {
    "papermill": {
     "duration": 0.008831,
     "end_time": "2024-04-06T15:04:53.739316",
     "exception": false,
     "start_time": "2024-04-06T15:04:53.730485",
     "status": "completed"
    },
    "tags": []
   },
   "outputs": [],
   "source": []
  },
  {
   "cell_type": "code",
   "execution_count": 11,
   "id": "597d299c",
   "metadata": {
    "execution": {
     "iopub.execute_input": "2024-04-06T15:04:53.759734Z",
     "iopub.status.busy": "2024-04-06T15:04:53.759274Z",
     "iopub.status.idle": "2024-04-06T15:04:54.578394Z",
     "shell.execute_reply": "2024-04-06T15:04:54.577428Z"
    },
    "papermill": {
     "duration": 0.832234,
     "end_time": "2024-04-06T15:04:54.580833",
     "exception": false,
     "start_time": "2024-04-06T15:04:53.748599",
     "status": "completed"
    },
    "tags": []
   },
   "outputs": [
    {
     "data": {
      "text/plain": [
       "<Axes: >"
      ]
     },
     "execution_count": 11,
     "metadata": {},
     "output_type": "execute_result"
    },
    {
     "data": {
      "image/png": "[encoded data removed]",
      "text/plain": [
       "<Figure size 1000x800 with 2 Axes>"
      ]
     },
     "metadata": {},
     "output_type": "display_data"
    }
   ],
   "source": [
    "plt.figure(figsize=(10,8))\n",
    "sns.heatmap(df.select_dtypes(exclude=['object']).corr(),annot=True,cmap='coolwarm',vmin=-1,vmax=1)"
   ]
  },
  {
   "cell_type": "code",
   "execution_count": 12,
   "id": "212dd01c",
   "metadata": {
    "execution": {
     "iopub.execute_input": "2024-04-06T15:04:54.605499Z",
     "iopub.status.busy": "2024-04-06T15:04:54.604429Z",
     "iopub.status.idle": "2024-04-06T15:04:54.612398Z",
     "shell.execute_reply": "2024-04-06T15:04:54.611519Z"
    },
    "papermill": {
     "duration": 0.022657,
     "end_time": "2024-04-06T15:04:54.614593",
     "exception": false,
     "start_time": "2024-04-06T15:04:54.591936",
     "status": "completed"
    },
    "tags": []
   },
   "outputs": [],
   "source": [
    "filter_df = df[['Date','High', 'Low','Volume','Trades']]\n"
   ]
  },
  {
   "cell_type": "code",
   "execution_count": 13,
   "id": "43e6ee02",
   "metadata": {
    "execution": {
     "iopub.execute_input": "2024-04-06T15:04:54.639725Z",
     "iopub.status.busy": "2024-04-06T15:04:54.639024Z",
     "iopub.status.idle": "2024-04-06T15:04:54.652430Z",
     "shell.execute_reply": "2024-04-06T15:04:54.651541Z"
    },
    "papermill": {
     "duration": 0.028474,
     "end_time": "2024-04-06T15:04:54.654420",
     "exception": false,
     "start_time": "2024-04-06T15:04:54.625946",
     "status": "completed"
    },
    "tags": []
   },
   "outputs": [
    {
     "data": {
      "text/html": [
       "<div>\n",
       "<style scoped>\n",
       "    .dataframe tbody tr th:only-of-type {\n",
       "        vertical-align: middle;\n",
       "    }\n",
       "\n",
       "    .dataframe tbody tr th {\n",
       "        vertical-align: top;\n",
       "    }\n",
       "\n",
       "    .dataframe thead th {\n",
       "        text-align: right;\n",
       "    }\n",
       "</style>\n",
       "<table border=\"1\" class=\"dataframe\">\n",
       "  <thead>\n",
       "    <tr style=\"text-align: right;\">\n",
       "      <th></th>\n",
       "      <th>Date</th>\n",
       "      <th>High</th>\n",
       "      <th>Low</th>\n",
       "      <th>Volume</th>\n",
       "      <th>Trades</th>\n",
       "    </tr>\n",
       "  </thead>\n",
       "  <tbody>\n",
       "    <tr>\n",
       "      <th>745</th>\n",
       "      <td>2011-06-01</td>\n",
       "      <td>528.95</td>\n",
       "      <td>517.1</td>\n",
       "      <td>113360</td>\n",
       "      <td>4155.0</td>\n",
       "    </tr>\n",
       "    <tr>\n",
       "      <th>746</th>\n",
       "      <td>2011-06-02</td>\n",
       "      <td>519.85</td>\n",
       "      <td>504.0</td>\n",
       "      <td>62967</td>\n",
       "      <td>2437.0</td>\n",
       "    </tr>\n",
       "    <tr>\n",
       "      <th>747</th>\n",
       "      <td>2011-06-03</td>\n",
       "      <td>520.00</td>\n",
       "      <td>506.0</td>\n",
       "      <td>36445</td>\n",
       "      <td>1754.0</td>\n",
       "    </tr>\n",
       "    <tr>\n",
       "      <th>748</th>\n",
       "      <td>2011-06-06</td>\n",
       "      <td>508.00</td>\n",
       "      <td>496.0</td>\n",
       "      <td>33537</td>\n",
       "      <td>1346.0</td>\n",
       "    </tr>\n",
       "    <tr>\n",
       "      <th>749</th>\n",
       "      <td>2011-06-07</td>\n",
       "      <td>552.00</td>\n",
       "      <td>503.0</td>\n",
       "      <td>1237385</td>\n",
       "      <td>36245.0</td>\n",
       "    </tr>\n",
       "  </tbody>\n",
       "</table>\n",
       "</div>"
      ],
      "text/plain": [
       "           Date    High    Low   Volume   Trades\n",
       "745  2011-06-01  528.95  517.1   113360   4155.0\n",
       "746  2011-06-02  519.85  504.0    62967   2437.0\n",
       "747  2011-06-03  520.00  506.0    36445   1754.0\n",
       "748  2011-06-06  508.00  496.0    33537   1346.0\n",
       "749  2011-06-07  552.00  503.0  1237385  36245.0"
      ]
     },
     "execution_count": 13,
     "metadata": {},
     "output_type": "execute_result"
    }
   ],
   "source": [
    "filter_df.head()"
   ]
  },
  {
   "cell_type": "code",
   "execution_count": 14,
   "id": "420abe0e",
   "metadata": {
    "execution": {
     "iopub.execute_input": "2024-04-06T15:04:54.678637Z",
     "iopub.status.busy": "2024-04-06T15:04:54.678205Z",
     "iopub.status.idle": "2024-04-06T15:04:54.684327Z",
     "shell.execute_reply": "2024-04-06T15:04:54.683007Z"
    },
    "papermill": {
     "duration": 0.021232,
     "end_time": "2024-04-06T15:04:54.686872",
     "exception": false,
     "start_time": "2024-04-06T15:04:54.665640",
     "status": "completed"
    },
    "tags": []
   },
   "outputs": [],
   "source": [
    "filter_df.set_index(keys='Date', inplace=True)"
   ]
  },
  {
   "cell_type": "code",
   "execution_count": 15,
   "id": "ba7913aa",
   "metadata": {
    "execution": {
     "iopub.execute_input": "2024-04-06T15:04:54.712482Z",
     "iopub.status.busy": "2024-04-06T15:04:54.712051Z",
     "iopub.status.idle": "2024-04-06T15:04:54.724582Z",
     "shell.execute_reply": "2024-04-06T15:04:54.723727Z"
    },
    "papermill": {
     "duration": 0.027372,
     "end_time": "2024-04-06T15:04:54.726646",
     "exception": false,
     "start_time": "2024-04-06T15:04:54.699274",
     "status": "completed"
    },
    "tags": []
   },
   "outputs": [
    {
     "data": {
      "text/html": [
       "<div>\n",
       "<style scoped>\n",
       "    .dataframe tbody tr th:only-of-type {\n",
       "        vertical-align: middle;\n",
       "    }\n",
       "\n",
       "    .dataframe tbody tr th {\n",
       "        vertical-align: top;\n",
       "    }\n",
       "\n",
       "    .dataframe thead th {\n",
       "        text-align: right;\n",
       "    }\n",
       "</style>\n",
       "<table border=\"1\" class=\"dataframe\">\n",
       "  <thead>\n",
       "    <tr style=\"text-align: right;\">\n",
       "      <th></th>\n",
       "      <th>High</th>\n",
       "      <th>Low</th>\n",
       "      <th>Volume</th>\n",
       "      <th>Trades</th>\n",
       "    </tr>\n",
       "    <tr>\n",
       "      <th>Date</th>\n",
       "      <th></th>\n",
       "      <th></th>\n",
       "      <th></th>\n",
       "      <th></th>\n",
       "    </tr>\n",
       "  </thead>\n",
       "  <tbody>\n",
       "    <tr>\n",
       "      <th>2011-06-01</th>\n",
       "      <td>528.95</td>\n",
       "      <td>517.1</td>\n",
       "      <td>113360</td>\n",
       "      <td>4155.0</td>\n",
       "    </tr>\n",
       "    <tr>\n",
       "      <th>2011-06-02</th>\n",
       "      <td>519.85</td>\n",
       "      <td>504.0</td>\n",
       "      <td>62967</td>\n",
       "      <td>2437.0</td>\n",
       "    </tr>\n",
       "    <tr>\n",
       "      <th>2011-06-03</th>\n",
       "      <td>520.00</td>\n",
       "      <td>506.0</td>\n",
       "      <td>36445</td>\n",
       "      <td>1754.0</td>\n",
       "    </tr>\n",
       "    <tr>\n",
       "      <th>2011-06-06</th>\n",
       "      <td>508.00</td>\n",
       "      <td>496.0</td>\n",
       "      <td>33537</td>\n",
       "      <td>1346.0</td>\n",
       "    </tr>\n",
       "    <tr>\n",
       "      <th>2011-06-07</th>\n",
       "      <td>552.00</td>\n",
       "      <td>503.0</td>\n",
       "      <td>1237385</td>\n",
       "      <td>36245.0</td>\n",
       "    </tr>\n",
       "  </tbody>\n",
       "</table>\n",
       "</div>"
      ],
      "text/plain": [
       "              High    Low   Volume   Trades\n",
       "Date                                       \n",
       "2011-06-01  528.95  517.1   113360   4155.0\n",
       "2011-06-02  519.85  504.0    62967   2437.0\n",
       "2011-06-03  520.00  506.0    36445   1754.0\n",
       "2011-06-06  508.00  496.0    33537   1346.0\n",
       "2011-06-07  552.00  503.0  1237385  36245.0"
      ]
     },
     "execution_count": 15,
     "metadata": {},
     "output_type": "execute_result"
    }
   ],
   "source": [
    "filter_df.head()"
   ]
  },
  {
   "cell_type": "code",
   "execution_count": 16,
   "id": "8307b7e5",
   "metadata": {
    "execution": {
     "iopub.execute_input": "2024-04-06T15:04:54.750919Z",
     "iopub.status.busy": "2024-04-06T15:04:54.750507Z",
     "iopub.status.idle": "2024-04-06T15:04:54.759933Z",
     "shell.execute_reply": "2024-04-06T15:04:54.758513Z"
    },
    "papermill": {
     "duration": 0.024292,
     "end_time": "2024-04-06T15:04:54.762209",
     "exception": false,
     "start_time": "2024-04-06T15:04:54.737917",
     "status": "completed"
    },
    "tags": []
   },
   "outputs": [],
   "source": [
    "filter_df['Trades_MA'] = filter_df.iloc[:, 3].expanding(min_periods=3).mean()"
   ]
  },
  {
   "cell_type": "code",
   "execution_count": 17,
   "id": "d18d9fac",
   "metadata": {
    "execution": {
     "iopub.execute_input": "2024-04-06T15:04:54.787051Z",
     "iopub.status.busy": "2024-04-06T15:04:54.786186Z",
     "iopub.status.idle": "2024-04-06T15:04:54.793642Z",
     "shell.execute_reply": "2024-04-06T15:04:54.792470Z"
    },
    "papermill": {
     "duration": 0.02261,
     "end_time": "2024-04-06T15:04:54.796141",
     "exception": false,
     "start_time": "2024-04-06T15:04:54.773531",
     "status": "completed"
    },
    "tags": []
   },
   "outputs": [],
   "source": [
    "filter_df.dropna(inplace=True)\n"
   ]
  },
  {
   "cell_type": "code",
   "execution_count": 18,
   "id": "4184c6a8",
   "metadata": {
    "execution": {
     "iopub.execute_input": "2024-04-06T15:04:54.821788Z",
     "iopub.status.busy": "2024-04-06T15:04:54.821391Z",
     "iopub.status.idle": "2024-04-06T15:04:54.828010Z",
     "shell.execute_reply": "2024-04-06T15:04:54.826825Z"
    },
    "papermill": {
     "duration": 0.022038,
     "end_time": "2024-04-06T15:04:54.830221",
     "exception": false,
     "start_time": "2024-04-06T15:04:54.808183",
     "status": "completed"
    },
    "tags": []
   },
   "outputs": [],
   "source": [
    "X = filter_df.drop(columns='Trades').values\n",
    "y = filter_df['Trades'].values"
   ]
  },
  {
   "cell_type": "code",
   "execution_count": 19,
   "id": "993da463",
   "metadata": {
    "execution": {
     "iopub.execute_input": "2024-04-06T15:04:54.855271Z",
     "iopub.status.busy": "2024-04-06T15:04:54.854801Z",
     "iopub.status.idle": "2024-04-06T15:04:54.861404Z",
     "shell.execute_reply": "2024-04-06T15:04:54.860558Z"
    },
    "papermill": {
     "duration": 0.021769,
     "end_time": "2024-04-06T15:04:54.863403",
     "exception": false,
     "start_time": "2024-04-06T15:04:54.841634",
     "status": "completed"
    },
    "tags": []
   },
   "outputs": [
    {
     "data": {
      "text/plain": [
       "(2454, 4)"
      ]
     },
     "execution_count": 19,
     "metadata": {},
     "output_type": "execute_result"
    }
   ],
   "source": [
    "X.shape\n"
   ]
  },
  {
   "cell_type": "code",
   "execution_count": 20,
   "id": "03629779",
   "metadata": {
    "execution": {
     "iopub.execute_input": "2024-04-06T15:04:54.889365Z",
     "iopub.status.busy": "2024-04-06T15:04:54.887858Z",
     "iopub.status.idle": "2024-04-06T15:04:54.897817Z",
     "shell.execute_reply": "2024-04-06T15:04:54.896819Z"
    },
    "papermill": {
     "duration": 0.02508,
     "end_time": "2024-04-06T15:04:54.900101",
     "exception": false,
     "start_time": "2024-04-06T15:04:54.875021",
     "status": "completed"
    },
    "tags": []
   },
   "outputs": [],
   "source": [
    "x_robust_scaler = RobustScaler()\n",
    "y_robust_scaler = RobustScaler()\n",
    "X = x_robust_scaler.fit_transform(X)\n",
    "y = y_robust_scaler.fit_transform(y.reshape(-1, 1))"
   ]
  },
  {
   "cell_type": "code",
   "execution_count": 21,
   "id": "78f6c2e6",
   "metadata": {
    "execution": {
     "iopub.execute_input": "2024-04-06T15:04:54.925716Z",
     "iopub.status.busy": "2024-04-06T15:04:54.925276Z",
     "iopub.status.idle": "2024-04-06T15:04:54.931682Z",
     "shell.execute_reply": "2024-04-06T15:04:54.930504Z"
    },
    "papermill": {
     "duration": 0.022256,
     "end_time": "2024-04-06T15:04:54.933904",
     "exception": false,
     "start_time": "2024-04-06T15:04:54.911648",
     "status": "completed"
    },
    "tags": []
   },
   "outputs": [],
   "source": [
    "x_minmax_scaler = MinMaxScaler()\n",
    "y_minmax_scaler = MinMaxScaler()\n",
    "X = x_minmax_scaler.fit_transform(X)\n",
    "y = y_minmax_scaler.fit_transform(y)"
   ]
  },
  {
   "cell_type": "code",
   "execution_count": 22,
   "id": "f36d3709",
   "metadata": {
    "execution": {
     "iopub.execute_input": "2024-04-06T15:04:54.958681Z",
     "iopub.status.busy": "2024-04-06T15:04:54.958237Z",
     "iopub.status.idle": "2024-04-06T15:04:54.963357Z",
     "shell.execute_reply": "2024-04-06T15:04:54.962136Z"
    },
    "papermill": {
     "duration": 0.020518,
     "end_time": "2024-04-06T15:04:54.965782",
     "exception": false,
     "start_time": "2024-04-06T15:04:54.945264",
     "status": "completed"
    },
    "tags": []
   },
   "outputs": [],
   "source": [
    "X_train = X[:2000]\n",
    "X_test = X[2000:]\n",
    "\n",
    "y_train = y[:2000]\n",
    "y_test = y[2000:]"
   ]
  },
  {
   "cell_type": "code",
   "execution_count": 23,
   "id": "994c425e",
   "metadata": {
    "execution": {
     "iopub.execute_input": "2024-04-06T15:04:54.990589Z",
     "iopub.status.busy": "2024-04-06T15:04:54.989821Z",
     "iopub.status.idle": "2024-04-06T15:04:54.994969Z",
     "shell.execute_reply": "2024-04-06T15:04:54.994132Z"
    },
    "papermill": {
     "duration": 0.019976,
     "end_time": "2024-04-06T15:04:54.997059",
     "exception": false,
     "start_time": "2024-04-06T15:04:54.977083",
     "status": "completed"
    },
    "tags": []
   },
   "outputs": [],
   "source": [
    "X_train = X_train.reshape((-1,1,4))\n",
    "X_test = X_test.reshape((-1,1,4))"
   ]
  },
  {
   "cell_type": "code",
   "execution_count": 24,
   "id": "c3a2a0e1",
   "metadata": {
    "execution": {
     "iopub.execute_input": "2024-04-06T15:04:55.022569Z",
     "iopub.status.busy": "2024-04-06T15:04:55.021835Z",
     "iopub.status.idle": "2024-04-06T15:04:55.187300Z",
     "shell.execute_reply": "2024-04-06T15:04:55.186126Z"
    },
    "papermill": {
     "duration": 0.181337,
     "end_time": "2024-04-06T15:04:55.190170",
     "exception": false,
     "start_time": "2024-04-06T15:04:55.008833",
     "status": "completed"
    },
    "tags": []
   },
   "outputs": [],
   "source": [
    "model = tf.keras.Sequential([\n",
    "    Input((1, 4)),\n",
    "    GRU(units=214, return_sequences=True),\n",
    "    Dropout(0.2),\n",
    "    GRU(units=224),\n",
    "    Dropout(0.2),\n",
    "    Dense(units=1, activation='linear')\n",
    "])"
   ]
  },
  {
   "cell_type": "code",
   "execution_count": 25,
   "id": "bc67f3e3",
   "metadata": {
    "execution": {
     "iopub.execute_input": "2024-04-06T15:04:55.215008Z",
     "iopub.status.busy": "2024-04-06T15:04:55.214624Z",
     "iopub.status.idle": "2024-04-06T15:04:55.239029Z",
     "shell.execute_reply": "2024-04-06T15:04:55.237643Z"
    },
    "papermill": {
     "duration": 0.039414,
     "end_time": "2024-04-06T15:04:55.241311",
     "exception": false,
     "start_time": "2024-04-06T15:04:55.201897",
     "status": "completed"
    },
    "tags": []
   },
   "outputs": [
    {
     "data": {
      "text/html": [
       "<pre style=\"white-space:pre;overflow-x:auto;line-height:normal;font-family:Menlo,'DejaVu Sans Mono',consolas,'Courier New',monospace\"><span style=\"font-weight: bold\">Model: \"sequential\"</span>\n",
       "</pre>\n"
      ],
      "text/plain": [
       "\u001b[1mModel: \"sequential\"\u001b[0m\n"
      ]
     },
     "metadata": {},
     "output_type": "display_data"
    },
    {
     "data": {
      "text/html": [
       "<pre style=\"white-space:pre;overflow-x:auto;line-height:normal;font-family:Menlo,'DejaVu Sans Mono',consolas,'Courier New',monospace\">┏━━━━━━━━━━━━━━━━━━━━━━━━━━━━━━━━━┳━━━━━━━━━━━━━━━━━━━━━━━━┳━━━━━━━━━━━━━━━┓\n",
       "┃<span style=\"font-weight: bold\"> Layer (type)                    </span>┃<span style=\"font-weight: bold\"> Output Shape           </span>┃<span style=\"font-weight: bold\">       Param # </span>┃\n",
       "┡━━━━━━━━━━━━━━━━━━━━━━━━━━━━━━━━━╇━━━━━━━━━━━━━━━━━━━━━━━━╇━━━━━━━━━━━━━━━┩\n",
       "│ gru (<span style=\"color: #0087ff; text-decoration-color: #0087ff\">GRU</span>)                       │ (<span style=\"color: #00d7ff; text-decoration-color: #00d7ff\">None</span>, <span style=\"color: #00af00; text-decoration-color: #00af00\">1</span>, <span style=\"color: #00af00; text-decoration-color: #00af00\">214</span>)         │       <span style=\"color: #00af00; text-decoration-color: #00af00\">141,240</span> │\n",
       "├─────────────────────────────────┼────────────────────────┼───────────────┤\n",
       "│ dropout (<span style=\"color: #0087ff; text-decoration-color: #0087ff\">Dropout</span>)               │ (<span style=\"color: #00d7ff; text-decoration-color: #00d7ff\">None</span>, <span style=\"color: #00af00; text-decoration-color: #00af00\">1</span>, <span style=\"color: #00af00; text-decoration-color: #00af00\">214</span>)         │             <span style=\"color: #00af00; text-decoration-color: #00af00\">0</span> │\n",
       "├─────────────────────────────────┼────────────────────────┼───────────────┤\n",
       "│ gru_1 (<span style=\"color: #0087ff; text-decoration-color: #0087ff\">GRU</span>)                     │ (<span style=\"color: #00d7ff; text-decoration-color: #00d7ff\">None</span>, <span style=\"color: #00af00; text-decoration-color: #00af00\">224</span>)            │       <span style=\"color: #00af00; text-decoration-color: #00af00\">295,680</span> │\n",
       "├─────────────────────────────────┼────────────────────────┼───────────────┤\n",
       "│ dropout_1 (<span style=\"color: #0087ff; text-decoration-color: #0087ff\">Dropout</span>)             │ (<span style=\"color: #00d7ff; text-decoration-color: #00d7ff\">None</span>, <span style=\"color: #00af00; text-decoration-color: #00af00\">224</span>)            │             <span style=\"color: #00af00; text-decoration-color: #00af00\">0</span> │\n",
       "├─────────────────────────────────┼────────────────────────┼───────────────┤\n",
       "│ dense (<span style=\"color: #0087ff; text-decoration-color: #0087ff\">Dense</span>)                   │ (<span style=\"color: #00d7ff; text-decoration-color: #00d7ff\">None</span>, <span style=\"color: #00af00; text-decoration-color: #00af00\">1</span>)              │           <span style=\"color: #00af00; text-decoration-color: #00af00\">225</span> │\n",
       "└─────────────────────────────────┴────────────────────────┴───────────────┘\n",
       "</pre>\n"
      ],
      "text/plain": [
       "┏━━━━━━━━━━━━━━━━━━━━━━━━━━━━━━━━━┳━━━━━━━━━━━━━━━━━━━━━━━━┳━━━━━━━━━━━━━━━┓\n",
       "┃\u001b[1m \u001b[0m\u001b[1mLayer (type)                   \u001b[0m\u001b[1m \u001b[0m┃\u001b[1m \u001b[0m\u001b[1mOutput Shape          \u001b[0m\u001b[1m \u001b[0m┃\u001b[1m \u001b[0m\u001b[1m      Param #\u001b[0m\u001b[1m \u001b[0m┃\n",
       "┡━━━━━━━━━━━━━━━━━━━━━━━━━━━━━━━━━╇━━━━━━━━━━━━━━━━━━━━━━━━╇━━━━━━━━━━━━━━━┩\n",
       "│ gru (\u001b[38;5;33mGRU\u001b[0m)                       │ (\u001b[38;5;45mNone\u001b[0m, \u001b[38;5;34m1\u001b[0m, \u001b[38;5;34m214\u001b[0m)         │       \u001b[38;5;34m141,240\u001b[0m │\n",
       "├─────────────────────────────────┼────────────────────────┼───────────────┤\n",
       "│ dropout (\u001b[38;5;33mDropout\u001b[0m)               │ (\u001b[38;5;45mNone\u001b[0m, \u001b[38;5;34m1\u001b[0m, \u001b[38;5;34m214\u001b[0m)         │             \u001b[38;5;34m0\u001b[0m │\n",
       "├─────────────────────────────────┼────────────────────────┼───────────────┤\n",
       "│ gru_1 (\u001b[38;5;33mGRU\u001b[0m)                     │ (\u001b[38;5;45mNone\u001b[0m, \u001b[38;5;34m224\u001b[0m)            │       \u001b[38;5;34m295,680\u001b[0m │\n",
       "├─────────────────────────────────┼────────────────────────┼───────────────┤\n",
       "│ dropout_1 (\u001b[38;5;33mDropout\u001b[0m)             │ (\u001b[38;5;45mNone\u001b[0m, \u001b[38;5;34m224\u001b[0m)            │             \u001b[38;5;34m0\u001b[0m │\n",
       "├─────────────────────────────────┼────────────────────────┼───────────────┤\n",
       "│ dense (\u001b[38;5;33mDense\u001b[0m)                   │ (\u001b[38;5;45mNone\u001b[0m, \u001b[38;5;34m1\u001b[0m)              │           \u001b[38;5;34m225\u001b[0m │\n",
       "└─────────────────────────────────┴────────────────────────┴───────────────┘\n"
      ]
     },
     "metadata": {},
     "output_type": "display_data"
    },
    {
     "data": {
      "text/html": [
       "<pre style=\"white-space:pre;overflow-x:auto;line-height:normal;font-family:Menlo,'DejaVu Sans Mono',consolas,'Courier New',monospace\"><span style=\"font-weight: bold\"> Total params: </span><span style=\"color: #00af00; text-decoration-color: #00af00\">437,145</span> (1.67 MB)\n",
       "</pre>\n"
      ],
      "text/plain": [
       "\u001b[1m Total params: \u001b[0m\u001b[38;5;34m437,145\u001b[0m (1.67 MB)\n"
      ]
     },
     "metadata": {},
     "output_type": "display_data"
    },
    {
     "data": {
      "text/html": [
       "<pre style=\"white-space:pre;overflow-x:auto;line-height:normal;font-family:Menlo,'DejaVu Sans Mono',consolas,'Courier New',monospace\"><span style=\"font-weight: bold\"> Trainable params: </span><span style=\"color: #00af00; text-decoration-color: #00af00\">437,145</span> (1.67 MB)\n",
       "</pre>\n"
      ],
      "text/plain": [
       "\u001b[1m Trainable params: \u001b[0m\u001b[38;5;34m437,145\u001b[0m (1.67 MB)\n"
      ]
     },
     "metadata": {},
     "output_type": "display_data"
    },
    {
     "data": {
      "text/html": [
       "<pre style=\"white-space:pre;overflow-x:auto;line-height:normal;font-family:Menlo,'DejaVu Sans Mono',consolas,'Courier New',monospace\"><span style=\"font-weight: bold\"> Non-trainable params: </span><span style=\"color: #00af00; text-decoration-color: #00af00\">0</span> (0.00 B)\n",
       "</pre>\n"
      ],
      "text/plain": [
       "\u001b[1m Non-trainable params: \u001b[0m\u001b[38;5;34m0\u001b[0m (0.00 B)\n"
      ]
     },
     "metadata": {},
     "output_type": "display_data"
    }
   ],
   "source": [
    "model.summary()\n"
   ]
  },
  {
   "cell_type": "code",
   "execution_count": 26,
   "id": "c87d81a5",
   "metadata": {
    "execution": {
     "iopub.execute_input": "2024-04-06T15:04:55.268935Z",
     "iopub.status.busy": "2024-04-06T15:04:55.268489Z",
     "iopub.status.idle": "2024-04-06T15:04:55.273983Z",
     "shell.execute_reply": "2024-04-06T15:04:55.272555Z"
    },
    "papermill": {
     "duration": 0.022157,
     "end_time": "2024-04-06T15:04:55.276322",
     "exception": false,
     "start_time": "2024-04-06T15:04:55.254165",
     "status": "completed"
    },
    "tags": []
   },
   "outputs": [],
   "source": [
    "early_stopping = tf.keras.callbacks.EarlyStopping(\n",
    "    patience = 10,\n",
    "    monitor='val_loss'\n",
    ")"
   ]
  },
  {
   "cell_type": "code",
   "execution_count": 27,
   "id": "31439806",
   "metadata": {
    "execution": {
     "iopub.execute_input": "2024-04-06T15:04:55.304562Z",
     "iopub.status.busy": "2024-04-06T15:04:55.304119Z",
     "iopub.status.idle": "2024-04-06T15:04:55.320011Z",
     "shell.execute_reply": "2024-04-06T15:04:55.318842Z"
    },
    "papermill": {
     "duration": 0.033355,
     "end_time": "2024-04-06T15:04:55.322415",
     "exception": false,
     "start_time": "2024-04-06T15:04:55.289060",
     "status": "completed"
    },
    "tags": []
   },
   "outputs": [],
   "source": [
    "model.compile(loss='mse', optimizer='adam')\n"
   ]
  },
  {
   "cell_type": "code",
   "execution_count": 28,
   "id": "00882764",
   "metadata": {
    "execution": {
     "iopub.execute_input": "2024-04-06T15:04:55.350157Z",
     "iopub.status.busy": "2024-04-06T15:04:55.349730Z",
     "iopub.status.idle": "2024-04-06T15:05:07.040523Z",
     "shell.execute_reply": "2024-04-06T15:05:07.039378Z"
    },
    "papermill": {
     "duration": 11.707932,
     "end_time": "2024-04-06T15:05:07.043592",
     "exception": false,
     "start_time": "2024-04-06T15:04:55.335660",
     "status": "completed"
    },
    "tags": []
   },
   "outputs": [
    {
     "name": "stdout",
     "output_type": "stream",
     "text": [
      "Epoch 1/100\n",
      "\u001b[1m7/7\u001b[0m \u001b[32m━━━━━━━━━━━━━━━━━━━━\u001b[0m\u001b[37m\u001b[0m \u001b[1m4s\u001b[0m 105ms/step - loss: 0.0010 - val_loss: 0.0022\n",
      "Epoch 2/100\n",
      "\u001b[1m7/7\u001b[0m \u001b[32m━━━━━━━━━━━━━━━━━━━━\u001b[0m\u001b[37m\u001b[0m \u001b[1m0s\u001b[0m 28ms/step - loss: 6.7401e-04 - val_loss: 0.0024\n",
      "Epoch 3/100\n",
      "\u001b[1m7/7\u001b[0m \u001b[32m━━━━━━━━━━━━━━━━━━━━\u001b[0m\u001b[37m\u001b[0m \u001b[1m0s\u001b[0m 27ms/step - loss: 4.3689e-04 - val_loss: 0.0015\n",
      "Epoch 4/100\n",
      "\u001b[1m7/7\u001b[0m \u001b[32m━━━━━━━━━━━━━━━━━━━━\u001b[0m\u001b[37m\u001b[0m \u001b[1m0s\u001b[0m 28ms/step - loss: 4.1758e-04 - val_loss: 0.0012\n",
      "Epoch 5/100\n",
      "\u001b[1m7/7\u001b[0m \u001b[32m━━━━━━━━━━━━━━━━━━━━\u001b[0m\u001b[37m\u001b[0m \u001b[1m0s\u001b[0m 29ms/step - loss: 3.6132e-04 - val_loss: 0.0013\n",
      "Epoch 6/100\n",
      "\u001b[1m7/7\u001b[0m \u001b[32m━━━━━━━━━━━━━━━━━━━━\u001b[0m\u001b[37m\u001b[0m \u001b[1m0s\u001b[0m 29ms/step - loss: 2.7955e-04 - val_loss: 0.0011\n",
      "Epoch 7/100\n",
      "\u001b[1m7/7\u001b[0m \u001b[32m━━━━━━━━━━━━━━━━━━━━\u001b[0m\u001b[37m\u001b[0m \u001b[1m0s\u001b[0m 28ms/step - loss: 2.3778e-04 - val_loss: 9.6009e-04\n",
      "Epoch 8/100\n",
      "\u001b[1m7/7\u001b[0m \u001b[32m━━━━━━━━━━━━━━━━━━━━\u001b[0m\u001b[37m\u001b[0m \u001b[1m0s\u001b[0m 28ms/step - loss: 2.3849e-04 - val_loss: 9.7007e-04\n",
      "Epoch 9/100\n",
      "\u001b[1m7/7\u001b[0m \u001b[32m━━━━━━━━━━━━━━━━━━━━\u001b[0m\u001b[37m\u001b[0m \u001b[1m0s\u001b[0m 28ms/step - loss: 2.6179e-04 - val_loss: 0.0010\n",
      "Epoch 10/100\n",
      "\u001b[1m7/7\u001b[0m \u001b[32m━━━━━━━━━━━━━━━━━━━━\u001b[0m\u001b[37m\u001b[0m \u001b[1m0s\u001b[0m 29ms/step - loss: 2.6754e-04 - val_loss: 9.5615e-04\n",
      "Epoch 11/100\n",
      "\u001b[1m7/7\u001b[0m \u001b[32m━━━━━━━━━━━━━━━━━━━━\u001b[0m\u001b[37m\u001b[0m \u001b[1m0s\u001b[0m 29ms/step - loss: 2.7205e-04 - val_loss: 0.0011\n",
      "Epoch 12/100\n",
      "\u001b[1m7/7\u001b[0m \u001b[32m━━━━━━━━━━━━━━━━━━━━\u001b[0m\u001b[37m\u001b[0m \u001b[1m0s\u001b[0m 29ms/step - loss: 2.6010e-04 - val_loss: 9.4899e-04\n",
      "Epoch 13/100\n",
      "\u001b[1m7/7\u001b[0m \u001b[32m━━━━━━━━━━━━━━━━━━━━\u001b[0m\u001b[37m\u001b[0m \u001b[1m0s\u001b[0m 28ms/step - loss: 2.8478e-04 - val_loss: 9.3404e-04\n",
      "Epoch 14/100\n",
      "\u001b[1m7/7\u001b[0m \u001b[32m━━━━━━━━━━━━━━━━━━━━\u001b[0m\u001b[37m\u001b[0m \u001b[1m0s\u001b[0m 28ms/step - loss: 2.6332e-04 - val_loss: 9.5763e-04\n",
      "Epoch 15/100\n",
      "\u001b[1m7/7\u001b[0m \u001b[32m━━━━━━━━━━━━━━━━━━━━\u001b[0m\u001b[37m\u001b[0m \u001b[1m0s\u001b[0m 32ms/step - loss: 2.6293e-04 - val_loss: 9.3268e-04\n",
      "Epoch 16/100\n",
      "\u001b[1m7/7\u001b[0m \u001b[32m━━━━━━━━━━━━━━━━━━━━\u001b[0m\u001b[37m\u001b[0m \u001b[1m0s\u001b[0m 28ms/step - loss: 2.3204e-04 - val_loss: 9.2615e-04\n",
      "Epoch 17/100\n",
      "\u001b[1m7/7\u001b[0m \u001b[32m━━━━━━━━━━━━━━━━━━━━\u001b[0m\u001b[37m\u001b[0m \u001b[1m0s\u001b[0m 28ms/step - loss: 2.6750e-04 - val_loss: 9.0122e-04\n",
      "Epoch 18/100\n",
      "\u001b[1m7/7\u001b[0m \u001b[32m━━━━━━━━━━━━━━━━━━━━\u001b[0m\u001b[37m\u001b[0m \u001b[1m0s\u001b[0m 27ms/step - loss: 2.6056e-04 - val_loss: 9.2437e-04\n",
      "Epoch 19/100\n",
      "\u001b[1m7/7\u001b[0m \u001b[32m━━━━━━━━━━━━━━━━━━━━\u001b[0m\u001b[37m\u001b[0m \u001b[1m0s\u001b[0m 28ms/step - loss: 2.5514e-04 - val_loss: 9.2513e-04\n",
      "Epoch 20/100\n",
      "\u001b[1m7/7\u001b[0m \u001b[32m━━━━━━━━━━━━━━━━━━━━\u001b[0m\u001b[37m\u001b[0m \u001b[1m0s\u001b[0m 27ms/step - loss: 2.5721e-04 - val_loss: 9.5725e-04\n",
      "Epoch 21/100\n",
      "\u001b[1m7/7\u001b[0m \u001b[32m━━━━━━━━━━━━━━━━━━━━\u001b[0m\u001b[37m\u001b[0m \u001b[1m0s\u001b[0m 26ms/step - loss: 2.4732e-04 - val_loss: 9.5003e-04\n",
      "Epoch 22/100\n",
      "\u001b[1m7/7\u001b[0m \u001b[32m━━━━━━━━━━━━━━━━━━━━\u001b[0m\u001b[37m\u001b[0m \u001b[1m0s\u001b[0m 29ms/step - loss: 2.4705e-04 - val_loss: 9.6659e-04\n",
      "Epoch 23/100\n",
      "\u001b[1m7/7\u001b[0m \u001b[32m━━━━━━━━━━━━━━━━━━━━\u001b[0m\u001b[37m\u001b[0m \u001b[1m0s\u001b[0m 28ms/step - loss: 2.6631e-04 - val_loss: 0.0010\n",
      "Epoch 24/100\n",
      "\u001b[1m7/7\u001b[0m \u001b[32m━━━━━━━━━━━━━━━━━━━━\u001b[0m\u001b[37m\u001b[0m \u001b[1m0s\u001b[0m 28ms/step - loss: 2.9185e-04 - val_loss: 9.7275e-04\n",
      "Epoch 25/100\n",
      "\u001b[1m7/7\u001b[0m \u001b[32m━━━━━━━━━━━━━━━━━━━━\u001b[0m\u001b[37m\u001b[0m \u001b[1m0s\u001b[0m 28ms/step - loss: 2.5401e-04 - val_loss: 0.0012\n",
      "Epoch 26/100\n",
      "\u001b[1m7/7\u001b[0m \u001b[32m━━━━━━━━━━━━━━━━━━━━\u001b[0m\u001b[37m\u001b[0m \u001b[1m0s\u001b[0m 29ms/step - loss: 2.6079e-04 - val_loss: 0.0010\n",
      "Epoch 27/100\n",
      "\u001b[1m7/7\u001b[0m \u001b[32m━━━━━━━━━━━━━━━━━━━━\u001b[0m\u001b[37m\u001b[0m \u001b[1m0s\u001b[0m 27ms/step - loss: 2.8557e-04 - val_loss: 9.4716e-04\n"
     ]
    }
   ],
   "source": [
    "history = model.fit(\n",
    "    X_train,\n",
    "    y_train,\n",
    "    batch_size=250, \n",
    "    epochs=100, \n",
    "    validation_split=0.15,\n",
    "    callbacks = [early_stopping]\n",
    ")"
   ]
  },
  {
   "cell_type": "code",
   "execution_count": 29,
   "id": "4cf8782d",
   "metadata": {
    "execution": {
     "iopub.execute_input": "2024-04-06T15:05:07.089434Z",
     "iopub.status.busy": "2024-04-06T15:05:07.088033Z",
     "iopub.status.idle": "2024-04-06T15:05:07.218120Z",
     "shell.execute_reply": "2024-04-06T15:05:07.216788Z"
    },
    "papermill": {
     "duration": 0.155481,
     "end_time": "2024-04-06T15:05:07.220612",
     "exception": false,
     "start_time": "2024-04-06T15:05:07.065131",
     "status": "completed"
    },
    "tags": []
   },
   "outputs": [
    {
     "name": "stdout",
     "output_type": "stream",
     "text": [
      "\u001b[1m15/15\u001b[0m \u001b[32m━━━━━━━━━━━━━━━━━━━━\u001b[0m\u001b[37m\u001b[0m \u001b[1m0s\u001b[0m 3ms/step - loss: 0.0128 \n"
     ]
    },
    {
     "data": {
      "text/plain": [
       "0.01619727723300457"
      ]
     },
     "execution_count": 29,
     "metadata": {},
     "output_type": "execute_result"
    }
   ],
   "source": [
    "model.evaluate(X_test, y_test)\n"
   ]
  },
  {
   "cell_type": "code",
   "execution_count": 30,
   "id": "94672e58",
   "metadata": {
    "execution": {
     "iopub.execute_input": "2024-04-06T15:05:07.264710Z",
     "iopub.status.busy": "2024-04-06T15:05:07.264223Z",
     "iopub.status.idle": "2024-04-06T15:05:08.604131Z",
     "shell.execute_reply": "2024-04-06T15:05:08.602785Z"
    },
    "papermill": {
     "duration": 1.365245,
     "end_time": "2024-04-06T15:05:08.606975",
     "exception": false,
     "start_time": "2024-04-06T15:05:07.241730",
     "status": "completed"
    },
    "tags": []
   },
   "outputs": [
    {
     "name": "stdout",
     "output_type": "stream",
     "text": [
      "\u001b[1m15/15\u001b[0m \u001b[32m━━━━━━━━━━━━━━━━━━━━\u001b[0m\u001b[37m\u001b[0m \u001b[1m1s\u001b[0m 26ms/step\n"
     ]
    }
   ],
   "source": [
    "y_pred = model.predict(X_test)\n"
   ]
  },
  {
   "cell_type": "code",
   "execution_count": 31,
   "id": "443935c6",
   "metadata": {
    "execution": {
     "iopub.execute_input": "2024-04-06T15:05:08.652856Z",
     "iopub.status.busy": "2024-04-06T15:05:08.652478Z",
     "iopub.status.idle": "2024-04-06T15:05:08.659469Z",
     "shell.execute_reply": "2024-04-06T15:05:08.658102Z"
    },
    "papermill": {
     "duration": 0.032393,
     "end_time": "2024-04-06T15:05:08.661810",
     "exception": false,
     "start_time": "2024-04-06T15:05:08.629417",
     "status": "completed"
    },
    "tags": []
   },
   "outputs": [],
   "source": [
    "y_test = y_minmax_scaler.inverse_transform(y_test)\n",
    "y_pred = y_minmax_scaler.inverse_transform(y_pred) \n",
    "\n",
    "y_test = y_robust_scaler.inverse_transform(y_test)\n",
    "y_pred = y_robust_scaler.inverse_transform(y_pred) "
   ]
  },
  {
   "cell_type": "code",
   "execution_count": null,
   "id": "0faef895",
   "metadata": {
    "execution": {
     "iopub.execute_input": "2024-04-06T14:59:05.807664Z",
     "iopub.status.busy": "2024-04-06T14:59:05.807145Z",
     "iopub.status.idle": "2024-04-06T14:59:05.816574Z",
     "shell.execute_reply": "2024-04-06T14:59:05.815074Z",
     "shell.execute_reply.started": "2024-04-06T14:59:05.807631Z"
    },
    "papermill": {
     "duration": 0.021509,
     "end_time": "2024-04-06T15:05:08.705368",
     "exception": false,
     "start_time": "2024-04-06T15:05:08.683859",
     "status": "completed"
    },
    "tags": []
   },
   "outputs": [],
   "source": []
  },
  {
   "cell_type": "code",
   "execution_count": 32,
   "id": "81c6637c",
   "metadata": {
    "execution": {
     "iopub.execute_input": "2024-04-06T15:05:08.753004Z",
     "iopub.status.busy": "2024-04-06T15:05:08.752624Z",
     "iopub.status.idle": "2024-04-06T15:05:09.051921Z",
     "shell.execute_reply": "2024-04-06T15:05:09.050556Z"
    },
    "papermill": {
     "duration": 0.325968,
     "end_time": "2024-04-06T15:05:09.054766",
     "exception": false,
     "start_time": "2024-04-06T15:05:08.728798",
     "status": "completed"
    },
    "tags": []
   },
   "outputs": [
    {
     "data": {
      "image/png": "[encoded data removed]",
      "text/plain": [
       "<Figure size 600x600 with 1 Axes>"
      ]
     },
     "metadata": {},
     "output_type": "display_data"
    }
   ],
   "source": [
    "plt.figure(figsize=(6,6))\n",
    "plt.scatter(y_test, y_pred)\n",
    "plt.xlabel(\"Actual Values (y_test)\")\n",
    "plt.ylabel(\"Predicted Values (y_pred)\")\n",
    "plt.title(\"Actual vs. Predicted\")\n",
    "plt.show()"
   ]
  },
  {
   "cell_type": "code",
   "execution_count": null,
   "id": "750ddfd4",
   "metadata": {
    "papermill": {
     "duration": 0.022227,
     "end_time": "2024-04-06T15:05:09.100354",
     "exception": false,
     "start_time": "2024-04-06T15:05:09.078127",
     "status": "completed"
    },
    "tags": []
   },
   "outputs": [],
   "source": []
  }
 ],
 "metadata": {
  "kaggle": {
   "accelerator": "none",
   "dataSources": [
    {
     "datasetId": 423609,
     "sourceId": 2179861,
     "sourceType": "datasetVersion"
    }
   ],
   "dockerImageVersionId": 30673,
   "isGpuEnabled": false,
   "isInternetEnabled": true,
   "language": "python",
   "sourceType": "notebook"
  },
  "kernelspec": {
   "display_name": "Python 3",
   "language": "python",
   "name": "python3"
  },
  "language_info": {
   "codemirror_mode": {
    "name": "ipython",
    "version": 3
   },
   "file_extension": ".py",
   "mimetype": "text/x-python",
   "name": "python",
   "nbconvert_exporter": "python",
   "pygments_lexer": "ipython3",
   "version": "3.10.13"
  },
  "papermill": {
   "default_parameters": {},
   "duration": 38.136625,
   "end_time": "2024-04-06T15:05:12.042767",
   "environment_variables": {},
   "exception": null,
   "input_path": "__notebook__.ipynb",
   "output_path": "__notebook__.ipynb",
   "parameters": {},
   "start_time": "2024-04-06T15:04:33.906142",
   "version": "2.5.0"
  }
 },
 "nbformat": 4,
 "nbformat_minor": 5
}
